{
 "cells": [
  {
   "cell_type": "markdown",
   "metadata": {},
   "source": [
    "___\n",
    "\n",
    "<a href='https://www.udemy.com/user/joseportilla/'><img src='../Pierian_Data_Logo.png'/></a>\n",
    "___\n",
    "<center><em>Content Copyright by Pierian Data</em></center>"
   ]
  },
  {
   "cell_type": "markdown",
   "metadata": {},
   "source": [
    "# Guessing Game Challenge\n",
    "\n",
    "Let's use `while` loops to create a guessing game.\n",
    "\n",
    "The Challenge:\n",
    "\n",
    "Write a program that picks a random integer from 1 to 100, and has players guess the number. The rules are:\n",
    "\n",
    "1. If a player's guess is less than 1 or greater than 100, say \"OUT OF BOUNDS\"\n",
    "2. On a player's first turn, if their guess is\n",
    " * within 10 of the number, return \"WARM!\"\n",
    " * further than 10 away from the number, return \"COLD!\"\n",
    "3. On all subsequent turns, if a guess is \n",
    " * closer to the number than the previous guess return \"WARMER!\"\n",
    " * farther from the number than the previous guess, return \"COLDER!\"\n",
    "4. When the player's guess equals the number, tell them they've guessed correctly *and* how many guesses it took!\n",
    "\n",
    "You can try this from scratch, or follow the steps outlined below. A separate Solution notebook has been provided. Good luck!\n"
   ]
  },
  {
   "cell_type": "markdown",
   "metadata": {},
   "source": [
    "#### First, pick a random integer from 1 to 100 using the random module and assign it to a variable\n",
    "\n",
    "Note: `random.randint(a,b)` returns a random integer in range `[a, b]`, including both end points."
   ]
  },
  {
   "cell_type": "code",
   "execution_count": 9,
   "metadata": {},
   "outputs": [],
   "source": [
    "import random\n",
    "number=random.randint(1,100)"
   ]
  },
  {
   "cell_type": "markdown",
   "metadata": {},
   "source": [
    "#### Next, print an introduction to the game and explain the rules"
   ]
  },
  {
   "cell_type": "code",
   "execution_count": 2,
   "metadata": {},
   "outputs": [
    {
     "name": "stdout",
     "output_type": "stream",
     "text": [
      "1. A number will be picked between 1 and 100. If your first guess is within 10, warm will be printed, otherwise cold will be printed.\n",
      "2. Subsequent guesses will print warmer if closer than the previous guess, else they will print colder.\n",
      "3. Finally, when the guess is correct it will be stated, along with the total number of guesses.\n"
     ]
    }
   ],
   "source": [
    "print('1. A number will be picked between 1 and 100. If your first guess is within 10, warm will be printed, otherwise cold will be printed.')\n",
    "print('2. Subsequent guesses will print warmer if closer than the previous guess, else they will print colder.')\n",
    "print('3. Finally, when the guess is correct it will be stated, along with the total number of guesses.')"
   ]
  },
  {
   "cell_type": "markdown",
   "metadata": {},
   "source": [
    "#### Create a list to store guesses\n",
    "\n",
    "Hint: zero is a good placeholder value. It's useful because it evaluates to \"False\""
   ]
  },
  {
   "cell_type": "code",
   "execution_count": 10,
   "metadata": {},
   "outputs": [],
   "source": [
    "guesses = []"
   ]
  },
  {
   "cell_type": "markdown",
   "metadata": {},
   "source": [
    "#### Write a `while` loop that asks for a valid guess. Test it a few times to make sure it works."
   ]
  },
  {
   "cell_type": "code",
   "execution_count": 12,
   "metadata": {},
   "outputs": [],
   "source": [
    "def guesser():\n",
    "    while True:\n",
    "        guess = int(input('Guess the number!\\n'))\n",
    "        if guess < 1 or guess > 100:\n",
    "            print('OUT OF BOUNDS')\n",
    "        else:\n",
    "            break\n",
    "    return guess"
   ]
  },
  {
   "cell_type": "markdown",
   "metadata": {},
   "source": [
    "#### Write a `while` loop that compares the player's guess to our number. If the player guesses correctly, break from the loop. Otherwise, tell the player if they're warmer or colder, and continue asking for guesses.\n",
    "\n",
    "Some hints:\n",
    "* it may help to sketch out all possible combinations on paper first!\n",
    "* you can use the `abs()` function to find the positive difference between two numbers\n",
    "* if you append all new guesses to the list, then the previous guess is given as `guesses[-2]`"
   ]
  },
  {
   "cell_type": "code",
   "execution_count": 21,
   "metadata": {},
   "outputs": [
    {
     "name": "stdout",
     "output_type": "stream",
     "text": [
      "Guess the number!\n",
      "500\n",
      "OUT OF BOUNDS\n",
      "Guess the number!\n",
      "-20\n",
      "OUT OF BOUNDS\n",
      "Guess the number!\n",
      "50\n",
      "COLD!\n",
      "Guess the number!\n",
      "50\n",
      "SAME AS LAST GUESS!\n",
      "Guess the number!\n",
      "70\n",
      "COLDER!\n",
      "Guess the number!\n",
      "30\n",
      "WARMER!\n",
      "Guess the number!\n",
      "20\n",
      "WARMER!\n",
      "Guess the number!\n",
      "15\n",
      "COLDER!\n",
      "Guess the number!\n",
      "25\n",
      "WARMER!\n",
      "Guess the number!\n",
      "23\n",
      "EQUALLY WARM! (HINT: AVERAGE OUT YOUR LAST TWO GUESSES)\n",
      "Guess the number!\n",
      "24\n",
      "Correct! Total guesses: 9\n"
     ]
    }
   ],
   "source": [
    "# we can copy the code from above to take an input\n",
    "while True:\n",
    "    guess = guesser()\n",
    "    guesses.append(guess)\n",
    "    if len(guesses) >= 2:\n",
    "        lastGuess=guesses[-2]\n",
    "    if guess == number:\n",
    "        print('Correct!'+' Total guesses: '+str(len(guesses)))\n",
    "        guesses = []\n",
    "        number=random.randint(1,100)\n",
    "        break\n",
    "    elif abs(guess-number) <= 10 and len(guesses) == 1:\n",
    "        print('WARM!')\n",
    "    elif abs(guess-number) > 10 and len(guesses) == 1:\n",
    "        print('COLD!')\n",
    "    elif abs(guess-number) < abs(lastGuess-number):\n",
    "        print('WARMER!')\n",
    "    elif abs(guess-number) > abs(lastGuess-number):\n",
    "        print('COLDER!')\n",
    "    elif abs(guess-number) == abs(lastGuess-number) and guess != lastGuess:\n",
    "        print('EQUALLY WARM! (HINT: AVERAGE OUT YOUR LAST TWO GUESSES)')\n",
    "    else:\n",
    "        print('SAME AS LAST GUESS!')\n",
    "    pass"
   ]
  },
  {
   "cell_type": "markdown",
   "metadata": {},
   "source": [
    "##### That's it! You've just programmed your first game!\n",
    "\n",
    "In the next section we'll learn how to turn some of these repetitive actions into *functions* that can be called whenever we need them."
   ]
  },
  {
   "cell_type": "markdown",
   "metadata": {},
   "source": [
    "### Good Job!"
   ]
  }
 ],
 "metadata": {
  "kernelspec": {
   "display_name": "Python 3 (ipykernel)",
   "language": "python",
   "name": "python3"
  },
  "language_info": {
   "codemirror_mode": {
    "name": "ipython",
    "version": 3
   },
   "file_extension": ".py",
   "mimetype": "text/x-python",
   "name": "python",
   "nbconvert_exporter": "python",
   "pygments_lexer": "ipython3",
   "version": "3.9.12"
  }
 },
 "nbformat": 4,
 "nbformat_minor": 2
}
