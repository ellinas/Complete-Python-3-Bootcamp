{
 "cells": [
  {
   "cell_type": "code",
   "execution_count": null,
   "id": "c68a84f5",
   "metadata": {},
   "outputs": [],
   "source": [
    "import requests\n",
    "import getpass\n",
    "import geocoder"
   ]
  },
  {
   "cell_type": "code",
   "execution_count": null,
   "id": "8e26b17b",
   "metadata": {},
   "outputs": [],
   "source": [
    "# Enter the API key securely\n",
    "key = getpass.getpass('What is your API key?')"
   ]
  },
  {
   "cell_type": "code",
   "execution_count": null,
   "id": "82f71c56",
   "metadata": {},
   "outputs": [],
   "source": [
    "# Get country, lat and lon based on entered zip code\n",
    "zip = input('What is your zip code?')\n",
    "country = g.country\n",
    "result2 = requests.get(f\"http://api.openweathermap.org/geo/1.0/zip?zip={zip},{country}&appid={key}\")\n",
    "lat = result2.json()['lat']\n",
    "lon = result2.json()['lon']"
   ]
  },
  {
   "cell_type": "code",
   "execution_count": null,
   "id": "16b4c01d",
   "metadata": {},
   "outputs": [],
   "source": [
    "# Get lat and lon based on IP address of requester\n",
    "g = geocoder.ip('me')\n",
    "lat, lon = g.latlng"
   ]
  },
  {
   "cell_type": "code",
   "execution_count": null,
   "id": "0d10de99",
   "metadata": {},
   "outputs": [],
   "source": [
    "# Get current weather at given lat and lon\n",
    "# result = requests.get(f\"https://api.openweathermap.org/data/3.0/onecall?lat={lat}&lon={lon}&appid={key}\")\n",
    "result = requests.get(f\"https://api.openweathermap.org/data/2.5/weather?lat={lat}&lon={lon}&appid={key}\")\n",
    "weather_kelvin = result.json()['main']['temp']\n",
    "weather_celsius = weather_kelvin - 273.15\n",
    "str(round(weather_celsius, 1)) + '°C'"
   ]
  },
  {
   "cell_type": "code",
   "execution_count": null,
   "id": "cfe9d1b2",
   "metadata": {},
   "outputs": [],
   "source": []
  }
 ],
 "metadata": {
  "kernelspec": {
   "display_name": "Python 3 (ipykernel)",
   "language": "python",
   "name": "python3"
  },
  "language_info": {
   "codemirror_mode": {
    "name": "ipython",
    "version": 3
   },
   "file_extension": ".py",
   "mimetype": "text/x-python",
   "name": "python",
   "nbconvert_exporter": "python",
   "pygments_lexer": "ipython3",
   "version": "3.9.12"
  }
 },
 "nbformat": 4,
 "nbformat_minor": 5
}
